{
 "cells": [
  {
   "cell_type": "markdown",
   "metadata": {},
   "source": [
    "#### Assignment 1-Day 2"
   ]
  },
  {
   "cell_type": "markdown",
   "metadata": {},
   "source": [
    " 1.Try 5 Different functions of the String in python\n",
    " for ex- index,split function\n",
    " "
   ]
  },
  {
   "cell_type": "code",
   "execution_count": 1,
   "metadata": {},
   "outputs": [
    {
     "data": {
      "text/plain": [
       "2"
      ]
     },
     "execution_count": 1,
     "metadata": {},
     "output_type": "execute_result"
    }
   ],
   "source": [
    "# 1. Count() Functions\n",
    "# Find the number of times a specified value occurs\n",
    "text1 = \"I like chess and chess is my favorite indoor game\"\n",
    "text1.count(\"chess\")"
   ]
  },
  {
   "cell_type": "code",
   "execution_count": 2,
   "metadata": {},
   "outputs": [
    {
     "data": {
      "text/plain": [
       "True"
      ]
     },
     "execution_count": 2,
     "metadata": {},
     "output_type": "execute_result"
    }
   ],
   "source": [
    "# 2. endswith() Functions\n",
    "# If the string ends with the specified value,True\n",
    "text2 =\"Python is a powerful programming language.\"\n",
    "text2.endswith(\"\")"
   ]
  },
  {
   "cell_type": "code",
   "execution_count": 3,
   "metadata": {},
   "outputs": [
    {
     "data": {
      "text/plain": [
       "True"
      ]
     },
     "execution_count": 3,
     "metadata": {},
     "output_type": "execute_result"
    }
   ],
   "source": [
    "# 3.isdigit()\n",
    "# Check all the characters in the text are digits\n",
    "txt3 ='02356'\n",
    "txt3.isdigit()"
   ]
  },
  {
   "cell_type": "code",
   "execution_count": 4,
   "metadata": {},
   "outputs": [
    {
     "data": {
      "text/plain": [
       "True"
      ]
     },
     "execution_count": 4,
     "metadata": {},
     "output_type": "execute_result"
    }
   ],
   "source": [
    "# 4.istitle()\n",
    "# Check the each word start with an upper case\n",
    "txt4 = \"Hi All, Welcome To Python Code\"\n",
    "txt4.istitle()"
   ]
  },
  {
   "cell_type": "code",
   "execution_count": 5,
   "metadata": {},
   "outputs": [
    {
     "data": {
      "text/plain": [
       "16"
      ]
     },
     "execution_count": 5,
     "metadata": {},
     "output_type": "execute_result"
    }
   ],
   "source": [
    "# rfind()\n",
    "txt5 = \"high level data structures.\"\n",
    "txt5.rfind(\"str\")"
   ]
  },
  {
   "cell_type": "markdown",
   "metadata": {},
   "source": [
    "#### Assignment 2-Day 2"
   ]
  },
  {
   "cell_type": "markdown",
   "metadata": {},
   "source": [
    "2.Try 5 differnet functions of the list object in python"
   ]
  },
  {
   "cell_type": "code",
   "execution_count": 6,
   "metadata": {},
   "outputs": [
    {
     "data": {
      "text/plain": [
       "['Delhi', 'Mumbai', 'Pune', 'Thane', 'bangalore']"
      ]
     },
     "execution_count": 6,
     "metadata": {},
     "output_type": "execute_result"
    }
   ],
   "source": [
    "# 1.Sort()\n",
    "# Sort the list ascending order\n",
    "lst1 = [\"Mumbai\", \"Pune\", \"Delhi\", \"Thane\",\"bangalore\"]\n",
    "lst1.sort()\n",
    "lst1"
   ]
  },
  {
   "cell_type": "code",
   "execution_count": 7,
   "metadata": {},
   "outputs": [
    {
     "data": {
      "text/plain": [
       "['a', 'b', 'c', 1, 2, 3]"
      ]
     },
     "execution_count": 7,
     "metadata": {},
     "output_type": "execute_result"
    }
   ],
   "source": [
    "# 2.join()\n",
    "# join the lists.\n",
    "lst2 = [\"a\", \"b\", \"c\"]\n",
    "lst3 = [1, 2, 3]\n",
    "lst4 = lst2 + lst3\n",
    "lst4"
   ]
  },
  {
   "cell_type": "code",
   "execution_count": 8,
   "metadata": {},
   "outputs": [
    {
     "data": {
      "text/plain": [
       "['Mumbai', 'Delhi', 'Thane', 'bangalore']"
      ]
     },
     "execution_count": 8,
     "metadata": {},
     "output_type": "execute_result"
    }
   ],
   "source": [
    "# 3.Remove()\n",
    "# remove the items\n",
    "lst1 = [\"Mumbai\", \"Pune\", \"Delhi\", \"Thane\",\"bangalore\"]\n",
    "lst1.remove(\"Pune\")\n",
    "lst1"
   ]
  },
  {
   "cell_type": "code",
   "execution_count": 9,
   "metadata": {},
   "outputs": [
    {
     "data": {
      "text/plain": [
       "['apple', 'cherry']"
      ]
     },
     "execution_count": 9,
     "metadata": {},
     "output_type": "execute_result"
    }
   ],
   "source": [
    "# 4. pop()\n",
    "# Removes the element at the specified position\n",
    "lst5 = ['apple', 'banana', 'cherry']\n",
    "lst5.pop(1)\n",
    "lst5"
   ]
  },
  {
   "cell_type": "code",
   "execution_count": 10,
   "metadata": {},
   "outputs": [
    {
     "data": {
      "text/plain": [
       "['Minivan', 'Lorry', 'Bus', 'Van', 'Car']"
      ]
     },
     "execution_count": 10,
     "metadata": {},
     "output_type": "execute_result"
    }
   ],
   "source": [
    "# reverse()\n",
    "# reverses the sorting order of the elements\n",
    "lst6 = [\"Car\", \"Van\", \"Bus\", \"Lorry\",\"Minivan\"]\n",
    "lst6.reverse()\n",
    "lst6"
   ]
  },
  {
   "cell_type": "markdown",
   "metadata": {},
   "source": [
    "#### Assignment 3 Day2"
   ]
  },
  {
   "cell_type": "markdown",
   "metadata": {},
   "source": [
    "3.Experiment with atleast 5 default functions of dict"
   ]
  },
  {
   "cell_type": "code",
   "execution_count": 11,
   "metadata": {},
   "outputs": [
    {
     "data": {
      "text/plain": [
       "{'Brand': 'Kia', 'model': 'Sonet', 'year': 2020}"
      ]
     },
     "execution_count": 11,
     "metadata": {},
     "output_type": "execute_result"
    }
   ],
   "source": [
    "# 1.items()\n",
    "CarModel = {\"Brand\": \"Kia\",\"model\": \"Sonet\",\"year\":2019}\n",
    "CarModel.items()\n",
    "CarModel['year']=2020\n",
    "CarModel"
   ]
  },
  {
   "cell_type": "code",
   "execution_count": 12,
   "metadata": {},
   "outputs": [
    {
     "data": {
      "text/plain": [
       "{'Brand': 'Kia', 'year': 2019}"
      ]
     },
     "execution_count": 12,
     "metadata": {},
     "output_type": "execute_result"
    }
   ],
   "source": [
    "# 2.pop()\n",
    "CarModel = {\"Brand\": \"Kia\",\"model\": \"Sonet\",\"year\":2019}\n",
    "CarModel.pop('model')\n",
    "CarModel"
   ]
  },
  {
   "cell_type": "code",
   "execution_count": 13,
   "metadata": {},
   "outputs": [
    {
     "data": {
      "text/plain": [
       "{'Brand': 'Kia', 'model': 'Sonet', 'year': 2019, 'color': 'Red'}"
      ]
     },
     "execution_count": 13,
     "metadata": {},
     "output_type": "execute_result"
    }
   ],
   "source": [
    "# 3.update\n",
    "CarModel = {\"Brand\": \"Kia\",\"model\": \"Sonet\",\"year\":2019}\n",
    "CarModel.update({\"color\":\"Red\"})\n",
    "CarModel"
   ]
  },
  {
   "cell_type": "code",
   "execution_count": 14,
   "metadata": {},
   "outputs": [
    {
     "data": {
      "text/plain": [
       "{'Brand': 'Kia', 'model': 'Sonet', 'year': 2018}"
      ]
     },
     "execution_count": 14,
     "metadata": {},
     "output_type": "execute_result"
    }
   ],
   "source": [
    "# 4.values()\n",
    "CarModel = {\"Brand\": \"Kia\",\"model\": \"Sonet\",\"year\":2019}\n",
    "CarModel.values()\n",
    "CarModel[\"year\"] = 2018\n",
    "CarModel"
   ]
  },
  {
   "cell_type": "code",
   "execution_count": 15,
   "metadata": {},
   "outputs": [
    {
     "data": {
      "text/plain": [
       "{}"
      ]
     },
     "execution_count": 15,
     "metadata": {},
     "output_type": "execute_result"
    }
   ],
   "source": [
    "# 5.Clear()\n",
    "# Remove all elements from the list\n",
    "CarModel = {\"Brand\": \"Kia\",\"model\": \"Sonet\",\"year\":2019}\n",
    "CarModel.clear()\n",
    "CarModel\n"
   ]
  }
 ],
 "metadata": {
  "kernelspec": {
   "display_name": "Python 3",
   "language": "python",
   "name": "python3"
  },
  "language_info": {
   "codemirror_mode": {
    "name": "ipython",
    "version": 3
   },
   "file_extension": ".py",
   "mimetype": "text/x-python",
   "name": "python",
   "nbconvert_exporter": "python",
   "pygments_lexer": "ipython3",
   "version": "3.7.6"
  }
 },
 "nbformat": 4,
 "nbformat_minor": 4
}
